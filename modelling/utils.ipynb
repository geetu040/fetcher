{
 "cells": [
  {
   "cell_type": "code",
   "execution_count": null,
   "metadata": {},
   "outputs": [],
   "source": [
    "import numpy as np\n",
    "import random"
   ]
  },
  {
   "cell_type": "markdown",
   "metadata": {},
   "source": [
    "# Moving Algorithm"
   ]
  },
  {
   "cell_type": "code",
   "execution_count": null,
   "metadata": {},
   "outputs": [],
   "source": [
    "def move_with_alog(fet, tar, prev_dir, method='euler'):\n",
    "\tpossible_dirs = [\n",
    "\t\tint([fet[0], fet[1]-1] in map),\n",
    "\t\tint([fet[0]-1, fet[1]] in map),\n",
    "\t\tint([fet[0], fet[1]+1] in map),\n",
    "\t\tint([fet[0]+1, fet[1]] in map),\n",
    "\t]\n",
    "\tif prev_dir != 4:\n",
    "\t\tpossible_dirs[(prev_dir+2) % 4] = 0\n",
    "\tif method == 'euler':\n",
    "\t\tdistances = [\n",
    "\t\t\t(fet[0] - tar[0])**2 + (fet[1]-1 - tar[1])**2,\n",
    "\t\t\t(fet[0]-1 - tar[0])**2 + (fet[1] - tar[1])**2,\n",
    "\t\t\t(fet[0] - tar[0])**2 + (fet[1]+1 - tar[1])**2,\n",
    "\t\t\t(fet[0]+1 - tar[0])**2 + (fet[1] - tar[1])**2,\n",
    "\t\t]\n",
    "\telif method == 'abs':\n",
    "\t\tdistances = [\n",
    "\t\t\tnp.abs(fet[0] - tar[0]) + np.abs(fet[1]-1 - tar[1]),\n",
    "\t\t\tnp.abs(fet[0]-1 - tar[0]) + np.abs(fet[1] - tar[1]),\n",
    "\t\t\tnp.abs(fet[0] - tar[0]) + np.abs(fet[1]+1 - tar[1]),\n",
    "\t\t\tnp.abs(fet[0]+1 - tar[0]) + np.abs(fet[1] - tar[1]),\n",
    "\t\t]\n",
    "\t\t\n",
    "\tbest_dir = None\n",
    "\tshortest_d = 99999999\n",
    "\tfor i in range(4):\n",
    "\t\tif possible_dirs[i] and distances[i]<shortest_d:\n",
    "\t\t\tshortest_d = distances[i]\n",
    "\t\t\tbest_dir = i\n",
    "\tdir=['u', 'l', 'd', 'r'][best_dir]\n",
    "\tnext_cord = fet[:]\n",
    "\tif dir == 'u':\n",
    "\t\tnext_cord[1] -= 1\n",
    "\telif dir == 'l':\n",
    "\t\tnext_cord[0] -= 1\n",
    "\telif dir == 'd':\n",
    "\t\tnext_cord[1] += 1\n",
    "\telif dir == 'r':\n",
    "\t\tnext_cord[0] += 1\n",
    "\tif next_cord in map:\n",
    "\t\tnew_fet = next_cord[:]\n",
    "\t\tnew_best_dir = ['u', 'l', 'd', 'r'].index(dir)\n",
    "\telse:\n",
    "\t\tnew_fet = fet[:]\n",
    "\t\tnew_best_dir = prev_dir\n",
    "\treturn new_fet, new_best_dir"
   ]
  },
  {
   "cell_type": "markdown",
   "metadata": {},
   "source": [
    "# Cooking Dataset"
   ]
  },
  {
   "cell_type": "code",
   "execution_count": null,
   "metadata": {},
   "outputs": [],
   "source": [
    "dataset_url = 'euler_dataset.csv'\n",
    "\n",
    "data = ''\n",
    "for i in range(400):\n",
    "\tfet, tar = random.choice(map), random.choice(map)\n",
    "\tprev_dir = 4\n",
    "\tj = 0\n",
    "\twhile fet != tar:\n",
    "\t\tj += 1\n",
    "\t\tif j >100:\n",
    "\t\t\tbreak\n",
    "\t\tdataline = f'\\n{fet[0]},{fet[1]},{tar[0]},{tar[1]},{prev_dir},'\n",
    "\t\tfet, prev_dir = move_with_alog(fet, tar, prev_dir, method=dataset_url.split('_')[0])\n",
    "\t\tdataline += str(prev_dir)\n",
    "\t\tdata += dataline\n",
    "\tif i % 50 == 0:\n",
    "\t\tprint('--->')\n",
    "\n",
    "print('gathered the data')\n",
    "\n",
    "with open(dataset_url, 'a') as f:\n",
    "\tf.write(data)\n",
    "\n",
    "\n",
    "print('now removing duplicates')\n",
    "\n",
    "with open(dataset_url, 'r') as f:\n",
    "\tcontent = f.read()\n",
    "\tnon_repeated_y = []\n",
    "\tnew_content = ''\n",
    "\tfor j in content.split():\n",
    "\t\tb = j.split(',')[:-1]\n",
    "\t\tif j not in new_content and b not in non_repeated_y:\n",
    "\t\t\tnew_content += '\\n' + j\n",
    "\t\t\tnon_repeated_y.append(b)\n",
    "\n",
    "with open(dataset_url, 'w') as f:\n",
    "\tf.write(new_content)"
   ]
  },
  {
   "cell_type": "markdown",
   "metadata": {},
   "source": [
    "# Cleaning Dataset"
   ]
  },
  {
   "cell_type": "code",
   "execution_count": 2,
   "metadata": {},
   "outputs": [],
   "source": [
    "dataset_url = 'datasets\\\\manual_dataset.csv'\n",
    "with open(dataset_url, 'r') as f:\n",
    "\tcontent = f.read()\n",
    "\tnon_repeated_y = []\n",
    "\tnew_content = ''\n",
    "\tfor j in content.split():\n",
    "\t\tb = j.split(',')[:-1]\n",
    "\t\tif j not in new_content and b not in non_repeated_y:\n",
    "\t\t\tnew_content += '\\n' + j\n",
    "\t\t\tnon_repeated_y.append(b)\n",
    "with open(dataset_url, 'w') as f:\n",
    "\tf.write(new_content)"
   ]
  },
  {
   "cell_type": "code",
   "execution_count": null,
   "metadata": {},
   "outputs": [],
   "source": []
  }
 ],
 "metadata": {
  "interpreter": {
   "hash": "9b7928274bb1196bf4111e29b99f020a8d9f62c63fdcc12515654b3fbbb8e820"
  },
  "kernelspec": {
   "display_name": "Python 3.9.9 64-bit (system)",
   "language": "python",
   "name": "python3"
  },
  "language_info": {
   "codemirror_mode": {
    "name": "ipython",
    "version": 3
   },
   "file_extension": ".py",
   "mimetype": "text/x-python",
   "name": "python",
   "nbconvert_exporter": "python",
   "pygments_lexer": "ipython3",
   "version": "3.9.9"
  },
  "orig_nbformat": 4
 },
 "nbformat": 4,
 "nbformat_minor": 2
}
